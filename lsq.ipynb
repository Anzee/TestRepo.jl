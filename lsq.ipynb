{
 "cells": [
  {
   "cell_type": "code",
   "execution_count": 13,
   "metadata": {},
   "outputs": [],
   "source": [
    "using Plots\n",
    "x=[0.0,2.0,4.0]\n",
    "y=[0.0,3.0,5.0]\n",
    "a0,a1=lsq_fit(x,y)\n",
    "scatter(x,y)\n",
    "plot(x,a0.+a1.*x)\n",
    "savefig(\"data.png\")"
   ]
  },
  {
   "cell_type": "code",
   "execution_count": 6,
   "metadata": {},
   "outputs": [
    {
     "data": {
      "text/plain": [
       "lsq_fit (generic function with 1 method)"
      ]
     },
     "execution_count": 6,
     "metadata": {},
     "output_type": "execute_result"
    }
   ],
   "source": [
    "function lsq_fit(x,y)\n",
    "    n=length(x)\n",
    "    X=[ones(n,1) x]\n",
    "    return (X'*X)^(-1)*X'*y\n",
    "end"
   ]
  }
 ],
 "metadata": {
  "kernelspec": {
   "display_name": "Julia 1.0.1",
   "language": "julia",
   "name": "julia-1.0"
  },
  "language_info": {
   "file_extension": ".jl",
   "mimetype": "application/julia",
   "name": "julia",
   "version": "1.0.1"
  }
 },
 "nbformat": 4,
 "nbformat_minor": 2
}
